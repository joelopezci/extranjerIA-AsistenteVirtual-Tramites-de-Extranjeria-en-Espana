{
 "cells": [
  {
   "cell_type": "markdown",
   "metadata": {},
   "source": [
    "## Eliminar Chroma db"
   ]
  },
  {
   "cell_type": "code",
   "execution_count": 7,
   "metadata": {},
   "outputs": [],
   "source": [
    "import shutil\n",
    "import os"
   ]
  },
  {
   "cell_type": "code",
   "execution_count": 8,
   "metadata": {},
   "outputs": [],
   "source": [
    "# Ruta de la carpeta de bases de datos\n",
    "DB_FOLDER = os.path.join(\"..\", \"data\")\n",
    "\n",
    "def list_chroma_dbs():\n",
    "    \"\"\"\n",
    "    Lista todas las bases de datos Chroma disponibles en la carpeta de datos.\n",
    "    \n",
    "    Returns:\n",
    "        list: Lista de nombres de bases de datos Chroma encontradas.\n",
    "    \"\"\"\n",
    "    try:\n",
    "        db_list = [folder for folder in os.listdir(DB_FOLDER) if folder.startswith(\"db_chroma_\")]\n",
    "        if not db_list:\n",
    "            print(\"No se encontraron bases de datos Chroma.\")\n",
    "        else:\n",
    "            print(\"Bases de datos Chroma disponibles:\")\n",
    "            for db in db_list:\n",
    "                print(f\"- {db}\")\n",
    "        return db_list\n",
    "    except Exception as e:\n",
    "        print(f\"Error al listar las bases de datos: {e}\")\n",
    "        return []"
   ]
  },
  {
   "cell_type": "code",
   "execution_count": 9,
   "metadata": {},
   "outputs": [],
   "source": [
    "\n",
    "def delete_chroma_db(db_name):\n",
    "    \"\"\"\n",
    "    Elimina una base de datos Chroma específica.\n",
    "\n",
    "    Args:\n",
    "        db_name (str): Nombre de la base de datos a eliminar.\n",
    "\n",
    "    Returns:\n",
    "        None\n",
    "    \"\"\"\n",
    "    db_path = os.path.join(DB_FOLDER, db_name)\n",
    "\n",
    "    if os.path.exists(db_path):\n",
    "        try:\n",
    "            shutil.rmtree(db_path)\n",
    "            print(f\"La base de datos '{db_name}' ha sido eliminada correctamente.\")\n",
    "        except Exception as e:\n",
    "            print(f\"Error al eliminar la base de datos: {e}\")\n",
    "    else:\n",
    "        print(f\"La base de datos '{db_name}' no existe.\")\n",
    "\n",
    "# # Uso de la función para eliminar una base de datos específica\n",
    "# db_to_delete = \"db_default\"  # db a eliminar\n",
    "# delete_chroma_db(db_to_delete)\n"
   ]
  },
  {
   "cell_type": "code",
   "execution_count": 10,
   "metadata": {},
   "outputs": [],
   "source": [
    "# db_to_delete = \"chroma_test\"  # db a eliminar\n",
    "# delete_chroma_db(db_to_delete)"
   ]
  },
  {
   "cell_type": "code",
   "execution_count": 11,
   "metadata": {},
   "outputs": [
    {
     "name": "stdout",
     "output_type": "stream",
     "text": [
      "Bases de datos Chroma disponibles:\n",
      "- db_chroma_huggingface_distiluse-base-multilingual-cased-v1\n",
      "- db_chroma_huggingface_distiluse-base-multilingual-cased-v1__funcional_limited\n",
      "- db_chroma_huggingface_mrm8488_multilingual-e5-large-ft-sts-spanish-matryoshka-768-16-5e__funcionnal_limited\n",
      "- db_chroma_test\n"
     ]
    },
    {
     "data": {
      "application/vnd.jupyter.widget-view+json": {
       "model_id": "d5ed15123daf4dbeb0fd869f5d4c0d4c",
       "version_major": 2,
       "version_minor": 0
      },
      "text/plain": [
       "Dropdown(description='Seleccionar DB:', options=('db_chroma_huggingface_distiluse-base-multilingual-cased-v1',…"
      ]
     },
     "metadata": {},
     "output_type": "display_data"
    },
    {
     "data": {
      "application/vnd.jupyter.widget-view+json": {
       "model_id": "da8fe7b144674db4b4af66a327f9bf57",
       "version_major": 2,
       "version_minor": 0
      },
      "text/plain": [
       "Button(description='Eliminar', style=ButtonStyle())"
      ]
     },
     "metadata": {},
     "output_type": "display_data"
    },
    {
     "data": {
      "application/vnd.jupyter.widget-view+json": {
       "model_id": "5ea2ed867a1e4146af946ad6f360875d",
       "version_major": 2,
       "version_minor": 0
      },
      "text/plain": [
       "Output()"
      ]
     },
     "metadata": {},
     "output_type": "display_data"
    }
   ],
   "source": [
    "import ipywidgets as widgets\n",
    "from IPython.display import display\n",
    "\n",
    "dbs = list_chroma_dbs()\n",
    "\n",
    "db_selector = widgets.Dropdown(\n",
    "    options=dbs,\n",
    "    description=\"Seleccionar DB:\",\n",
    "    disabled=False,\n",
    ")\n",
    "\n",
    "delete_button = widgets.Button(description=\"Eliminar\")\n",
    "output = widgets.Output()\n",
    "\n",
    "def on_delete_button_clicked(b):\n",
    "    with output:\n",
    "        output.clear_output()\n",
    "        delete_chroma_db(db_selector.value)\n",
    "\n",
    "delete_button.on_click(on_delete_button_clicked)\n",
    "\n",
    "display(db_selector, delete_button, output)"
   ]
  },
  {
   "cell_type": "code",
   "execution_count": 12,
   "metadata": {},
   "outputs": [],
   "source": [
    "# - db_chroma_huggingface_distiluse-base-multilingual-cased-v1\n",
    "# - db_chroma_huggingface_mrm8488_multilingual-e5-large-ft-sts-spanish-matryoshka-768-16-5e\n",
    "# - db_chroma_huggingface_paraphrase-multilingual-MiniLM-L12-v2"
   ]
  }
 ],
 "metadata": {
  "kernelspec": {
   "display_name": "venv",
   "language": "python",
   "name": "python3"
  },
  "language_info": {
   "codemirror_mode": {
    "name": "ipython",
    "version": 3
   },
   "file_extension": ".py",
   "mimetype": "text/x-python",
   "name": "python",
   "nbconvert_exporter": "python",
   "pygments_lexer": "ipython3",
   "version": "3.12.4"
  }
 },
 "nbformat": 4,
 "nbformat_minor": 2
}
