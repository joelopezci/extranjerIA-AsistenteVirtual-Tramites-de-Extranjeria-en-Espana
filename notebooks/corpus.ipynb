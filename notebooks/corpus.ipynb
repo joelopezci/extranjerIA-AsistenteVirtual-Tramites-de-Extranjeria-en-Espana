{
 "cells": [
  {
   "cell_type": "code",
   "execution_count": 23,
   "metadata": {},
   "outputs": [
    {
     "name": "stdout",
     "output_type": "stream",
     "text": [
      "Requirement already satisfied: python-docx in c:\\users\\zepol\\documents\\uam\\tfm\\extranjeria\\venv\\lib\\site-packages (1.1.2)\n",
      "Requirement already satisfied: lxml>=3.1.0 in c:\\users\\zepol\\documents\\uam\\tfm\\extranjeria\\venv\\lib\\site-packages (from python-docx) (5.3.0)\n",
      "Requirement already satisfied: typing-extensions>=4.9.0 in c:\\users\\zepol\\documents\\uam\\tfm\\extranjeria\\venv\\lib\\site-packages (from python-docx) (4.12.2)\n"
     ]
    },
    {
     "name": "stderr",
     "output_type": "stream",
     "text": [
      "\n",
      "[notice] A new release of pip is available: 24.0 -> 25.0\n",
      "[notice] To update, run: python.exe -m pip install --upgrade pip\n"
     ]
    }
   ],
   "source": [
    "!pip install python-docx"
   ]
  },
  {
   "cell_type": "code",
   "execution_count": 24,
   "metadata": {},
   "outputs": [],
   "source": [
    "# Paso 1: Importar bibliotecas necesarias\n",
    "import pandas as pd\n",
    "from docx import Document\n",
    "import os"
   ]
  },
  {
   "cell_type": "code",
   "execution_count": 25,
   "metadata": {},
   "outputs": [],
   "source": [
    "# Paso 2: Definir rutas de los archivos\n",
    "word_file = \"Corpus_extranjerIA.docx\"  # Nombre del archivo de Word\n",
    "excel_file = \"corpus_extranjerIA.xlsx\"  # Nombre del archivo de Excel de destino\n",
    "\n"
   ]
  },
  {
   "cell_type": "code",
   "execution_count": 26,
   "metadata": {},
   "outputs": [],
   "source": [
    "# # Paso 3: Función para leer el archivo de Word y extraer datos\n",
    "# def extract_questions_answers(word_path):\n",
    "#     doc = Document(word_path)\n",
    "#     data = []\n",
    "#     current_document = \"\"\n",
    "#     current_route = \"\"\n",
    "#     current_category = \"\"\n",
    "    \n",
    "#     paragraphs = [p.text.strip() for p in doc.paragraphs if p.text.strip()]\n",
    "    \n",
    "#     for i in range(len(paragraphs)):\n",
    "#         text = paragraphs[i]\n",
    "        \n",
    "#         if text.startswith(\"Archivo:\"):\n",
    "#             current_document = text.replace(\"Archivo:\", \"\").strip()\n",
    "#         elif text.startswith(\"Ruta:\"):\n",
    "#             current_route = text.replace(\"Ruta:\", \"\").strip()\n",
    "#         elif text.startswith(\"Categoría:\"):\n",
    "#             current_category = text.replace(\"Categoría:\", \"\").strip()\n",
    "#         elif text.startswith(\"Pregunta:\"):\n",
    "#             question = text.replace(\"Pregunta:\", \"\").strip()\n",
    "#             answer = \"\"\n",
    "            \n",
    "#             if \"Respuesta:\" in question:\n",
    "#                 question, answer = question.split(\"Respuesta:\", 1)\n",
    "#                 question = question.strip()\n",
    "#                 answer = answer.strip()\n",
    "#             elif i + 1 < len(paragraphs) and paragraphs[i + 1].startswith(\"Respuesta:\"):\n",
    "#                 answer = paragraphs[i + 1].replace(\"Respuesta:\", \"\").strip()\n",
    "                \n",
    "#             data.append([current_document, current_route, current_category, question, answer])\n",
    "    \n",
    "#     return pd.DataFrame(data, columns=[\"Documento\", \"Ruta\", \"Categoria_pregunta\", \"Pregunta\", \"Respuesta_Humana\"])"
   ]
  },
  {
   "cell_type": "code",
   "execution_count": 27,
   "metadata": {},
   "outputs": [],
   "source": [
    "# Paso 3: Función para leer el archivo de Word y extraer datos\n",
    "def extract_questions_answers(word_path):\n",
    "    doc = Document(word_path)\n",
    "    data = []\n",
    "    current_document = \"\"\n",
    "    current_route = \"\"\n",
    "    current_category = \"\"\n",
    "    \n",
    "    paragraphs = [p.text.strip() for p in doc.paragraphs if p.text.strip()]\n",
    "    \n",
    "    for i in range(len(paragraphs)):\n",
    "        text = paragraphs[i]\n",
    "        \n",
    "        if text.startswith(\"Archivo:\"):\n",
    "            current_document = text.replace(\"Archivo:\", \"\").strip()\n",
    "        elif text.startswith(\"Ruta:\"):\n",
    "            current_route = text.replace(\"Ruta:\", \"\").strip()\n",
    "        elif text.startswith(\"Categoría:\"):\n",
    "            current_category = text.replace(\"Categoría:\", \"\").strip()\n",
    "        elif text.startswith(\"Pregunta:\"):\n",
    "            question = text.replace(\"Pregunta:\", \"\").strip()\n",
    "            answer = \"\"\n",
    "            \n",
    "            if \"Respuesta:\" in question:\n",
    "                question, answer = question.split(\"Respuesta:\", 1)\n",
    "                question = question.strip()\n",
    "                answer = answer.strip()\n",
    "            elif i + 1 < len(paragraphs) and paragraphs[i + 1].startswith(\"Respuesta:\"):\n",
    "                # Capturar respuesta inicial\n",
    "                answer = paragraphs[i + 1].replace(\"Respuesta:\", \"\").strip()\n",
    "                \n",
    "                # Capturar respuestas multilínea (listas de pasos, documentos, etc.)\n",
    "                for j in range(i + 2, len(paragraphs)):\n",
    "                    next_text = paragraphs[j]\n",
    "                    \n",
    "                    # Si encontramos una nueva pregunta o categoría, detener captura\n",
    "                    if next_text.startswith(\"Pregunta:\") or next_text.startswith(\"Categoría:\"):\n",
    "                        break\n",
    "                    \n",
    "                    # Si es parte de la respuesta, agregarla con un salto de línea\n",
    "                    answer += \"\\n\" + next_text\n",
    "            \n",
    "            # Guardar pregunta y respuesta en la lista\n",
    "            data.append([current_document, current_route, current_category, question, answer])\n",
    "    \n",
    "    return pd.DataFrame(data, columns=[\"Documento\", \"Ruta\", \"Categoria_pregunta\", \"Pregunta\", \"Respuesta_Humana\"])\n"
   ]
  },
  {
   "cell_type": "code",
   "execution_count": 28,
   "metadata": {},
   "outputs": [],
   "source": [
    "# Paso 4: Extraer datos del documento de Word\n",
    "df_word = extract_questions_answers(word_file)\n",
    "\n"
   ]
  },
  {
   "cell_type": "code",
   "execution_count": 29,
   "metadata": {},
   "outputs": [],
   "source": [
    "# Paso 5: Cargar el archivo de Excel existente si existe\n",
    "if os.path.exists(excel_file):\n",
    "    df_excel = pd.read_excel(excel_file)\n",
    "else:\n",
    "    df_excel = pd.DataFrame(columns=[\"Documento\", \"Ruta\", \"Categoria_pregunta\", \"Pregunta\", \"Respuesta_Humana\", \"Respuesta_RAG\", \"Modelo_embedding_usado\", \"LLM_usado\", \"Documentos_relevantes_con_score\", \"Score_RHvsRRAG\"])\n",
    "\n"
   ]
  },
  {
   "cell_type": "code",
   "execution_count": 30,
   "metadata": {},
   "outputs": [],
   "source": [
    "# Paso 6: Combinar datos extraídos con el archivo de Excel existente\n",
    "df_combined = pd.concat([df_excel, df_word], ignore_index=True)\n",
    "\n"
   ]
  },
  {
   "cell_type": "code",
   "execution_count": 31,
   "metadata": {},
   "outputs": [
    {
     "name": "stdout",
     "output_type": "stream",
     "text": [
      "Archivo guardado exitosamente como corpus_extranjerIA_completo.xlsx\n"
     ]
    }
   ],
   "source": [
    "# Paso 7: Guardar el archivo Excel actualizado\n",
    "output_file = \"corpus_extranjerIA_completo.xlsx\"\n",
    "df_combined.to_excel(output_file, index=False)\n",
    "\n",
    "print(f\"Archivo guardado exitosamente como {output_file}\")"
   ]
  },
  {
   "cell_type": "code",
   "execution_count": 32,
   "metadata": {},
   "outputs": [
    {
     "name": "stdout",
     "output_type": "stream",
     "text": [
      "Cantidad de preguntas por categoría:\n",
      "Categoria_pregunta\n",
      "Preguntas factuales          93\n",
      "Preguntas inferenciales      52\n",
      "Preguntas procedimentales    51\n",
      "Preguntas comparativas       37\n",
      "Name: count, dtype: int64\n"
     ]
    }
   ],
   "source": [
    "# Cargar el archivo de Excel actualizado\n",
    "df_final = pd.read_excel(\"corpus_extranjerIA_completo.xlsx\")\n",
    "\n",
    "# Contar la cantidad de preguntas por categoría\n",
    "categoria_counts = df_final[\"Categoria_pregunta\"].value_counts()\n",
    "\n",
    "# Mostrar los resultados\n",
    "print(\"Cantidad de preguntas por categoría:\")\n",
    "print(categoria_counts)"
   ]
  },
  {
   "cell_type": "code",
   "execution_count": 33,
   "metadata": {},
   "outputs": [
    {
     "name": "stdout",
     "output_type": "stream",
     "text": [
      "Número de documentos únicos en el dataframe: 31\n"
     ]
    }
   ],
   "source": [
    "num_documentos_unicos = df_final[\"Documento\"].nunique()\n",
    "print(f\"Número de documentos únicos en el dataframe: {num_documentos_unicos}\")"
   ]
  },
  {
   "cell_type": "code",
   "execution_count": 34,
   "metadata": {},
   "outputs": [
    {
     "name": "stdout",
     "output_type": "stream",
     "text": [
      "Archivo limpio guardado como corpus_extranjerIA_limpio.xlsx\n"
     ]
    }
   ],
   "source": [
    "# Cargar el archivo de Excel generado\n",
    "df = pd.read_excel(\"corpus_extranjerIA_completo.xlsx\")\n",
    "\n",
    "# Filtrar filas eliminando aquellas donde Respuesta_Humana está vacía o contiene \":\"\n",
    "df_cleaned = df[df[\"Respuesta_Humana\"].notna() & ~df[\"Respuesta_Humana\"].str.contains(\":\", na=False)]\n",
    "\n",
    "# Guardar el nuevo archivo limpio\n",
    "output_cleaned_file = \"corpus_extranjerIA_limpio.xlsx\"\n",
    "df_cleaned.to_excel(output_cleaned_file, index=False)\n",
    "\n",
    "print(f\"Archivo limpio guardado como {output_cleaned_file}\")\n"
   ]
  },
  {
   "cell_type": "code",
   "execution_count": 35,
   "metadata": {},
   "outputs": [
    {
     "name": "stdout",
     "output_type": "stream",
     "text": [
      "Número de documentos únicos en el dataframe: 31\n"
     ]
    }
   ],
   "source": [
    "num_documentos_unicos = df[\"Documento\"].nunique()\n",
    "print(f\"Número de documentos únicos en el dataframe: {num_documentos_unicos}\")"
   ]
  },
  {
   "cell_type": "code",
   "execution_count": 36,
   "metadata": {},
   "outputs": [
    {
     "name": "stdout",
     "output_type": "stream",
     "text": [
      "['AUT_TRABJ_Familiares_UE_sin_TIE.pdf' 'Enlace1_Solicitar_duplicado.pdf'\n",
      " 'Guia_informativa_basica_25-05-2022.pdf' 'Nota_empleadores.pdf'\n",
      " 'Presentar_recursos.pdf' '22bis_Estudiantes-ERASMUS.pdf'\n",
      " '4_Busqueda_empleo_proyecto_empresarial.pdf'\n",
      " 'Autorizacion_estancia_estudios_inicial.pdf'\n",
      " 'Estudiantes-residencia_practicas.pdf' 'Estudiantes-trabajoparcial.pdf'\n",
      " 'Extranjero_no_UE_estudiante_otro_pais_UE.pdf'\n",
      " 'Familiares_estudiante_sin_NIE.pdf' 'Prorroga_estancia_estudios.pdf'\n",
      " '16Familiar_comunitario_inicial.pdf'\n",
      " '17Familiar_comunitario_permanente.pdf' '1Arraigo_familiar_inicial.pdf'\n",
      " '2Arraigo_social.pdf' '27Razones_humanitarias.pdf'\n",
      " '28Proteccion_internacional.pdf'\n",
      " '29bisViolencia_genero_Tarjeta_provisional.pdf' '29Violencia_genero.pdf'\n",
      " 'Autorizacion_trabajo.pdf' '1_Cuenta_ajena-inicial.pdf'\n",
      " '2_cuenta_ajena-renovacion.pdf' '3-_CUENTA_AJENA-modificacion.pdf'\n",
      " '4_Cuenta_ajena-modificacion_otra_situacion.pdf'\n",
      " '5_Cuenta_propia-renovacion.pdf' '26No_lucrativa_renovacion.pdf'\n",
      " 'Como_pedir_Cita_Previa_Madrid.pdf0' 'GUIA_BUENAS_PRACTICAS.pdf0'\n",
      " 'Indice_Documentacion_Esencial.pdf0']\n"
     ]
    }
   ],
   "source": [
    "documentos_unicos = df[\"Documento\"].unique()\n",
    "print(documentos_unicos)"
   ]
  },
  {
   "cell_type": "code",
   "execution_count": 16,
   "metadata": {},
   "outputs": [
    {
     "name": "stdout",
     "output_type": "stream",
     "text": [
      "Cantidad de preguntas por categoría:\n",
      "Categoria_pregunta\n",
      "Preguntas inferenciales      52\n",
      "Preguntas factuales          51\n",
      "Preguntas comparativas       28\n",
      "Preguntas procedimentales    21\n",
      "Name: count, dtype: int64\n"
     ]
    }
   ],
   "source": [
    "# Cargar el archivo de Excel actualizado\n",
    "df_final = pd.read_excel(\"corpus_extranjerIA_limpio.xlsx\")\n",
    "\n",
    "# Contar la cantidad de preguntas por categoría\n",
    "categoria_counts = df_final[\"Categoria_pregunta\"].value_counts()\n",
    "\n",
    "# Mostrar los resultados\n",
    "print(\"Cantidad de preguntas por categoría:\")\n",
    "print(categoria_counts)"
   ]
  },
  {
   "cell_type": "code",
   "execution_count": 17,
   "metadata": {},
   "outputs": [
    {
     "name": "stdout",
     "output_type": "stream",
     "text": [
      "Número de documentos únicos en el dataframe: 30\n"
     ]
    }
   ],
   "source": [
    "num_documentos_unicos = df_final[\"Documento\"].nunique()\n",
    "print(f\"Número de documentos únicos en el dataframe: {num_documentos_unicos}\")"
   ]
  },
  {
   "cell_type": "code",
   "execution_count": null,
   "metadata": {},
   "outputs": [],
   "source": [
    "documentos_unicos = combined_df[\"Documento\"].unique()\n",
    "print(documentos_unicos)"
   ]
  },
  {
   "cell_type": "code",
   "execution_count": null,
   "metadata": {},
   "outputs": [],
   "source": []
  },
  {
   "cell_type": "code",
   "execution_count": 157,
   "metadata": {},
   "outputs": [
    {
     "name": "stdout",
     "output_type": "stream",
     "text": [
      "Archivo guardado exitosamente como corpus_extranjerIA_muestra.xlsx\n"
     ]
    },
    {
     "name": "stderr",
     "output_type": "stream",
     "text": [
      "C:\\Users\\zepol\\AppData\\Local\\Temp\\ipykernel_18100\\2433714289.py:7: DeprecationWarning: DataFrameGroupBy.apply operated on the grouping columns. This behavior is deprecated, and in a future version of pandas the grouping columns will be excluded from the operation. Either pass `include_groups=False` to exclude the groupings or explicitly select the grouping columns after groupby to silence this warning.\n",
      "  df_sampled = df_final.groupby(\"Categoria_pregunta\").apply(lambda x: x.sample(n=10, random_state=42)).reset_index(drop=True)\n"
     ]
    }
   ],
   "source": [
    "import numpy as np\n",
    "\n",
    "# Fijar una semilla para hacer la selección reproducible\n",
    "np.random.seed(42)\n",
    "\n",
    "# Seleccionar 15 preguntas al azar por cada categoría\n",
    "df_sampled = df_final.groupby(\"Categoria_pregunta\").apply(lambda x: x.sample(n=10, random_state=42)).reset_index(drop=True)\n",
    "\n",
    "# Guardar el resultado en un nuevo archivo de Excel\n",
    "output_sampled_file = \"corpus_extranjerIA_muestra.xlsx\"\n",
    "df_sampled.to_excel(output_sampled_file, index=False)\n",
    "\n",
    "print(f\"Archivo guardado exitosamente como {output_sampled_file}\")"
   ]
  },
  {
   "cell_type": "code",
   "execution_count": 158,
   "metadata": {},
   "outputs": [
    {
     "name": "stdout",
     "output_type": "stream",
     "text": [
      "Cantidad de preguntas por categoría:\n",
      "Categoria_pregunta\n",
      "Preguntas comparativas       10\n",
      "Preguntas factuales          10\n",
      "Preguntas inferenciales      10\n",
      "Preguntas procedimentales    10\n",
      "Name: count, dtype: int64\n"
     ]
    }
   ],
   "source": [
    "# Cargar el archivo de Excel actualizado\n",
    "df_final = pd.read_excel(\"corpus_extranjerIA_muestra.xlsx\")\n",
    "\n",
    "# Contar la cantidad de preguntas por categoría\n",
    "categoria_counts = df_final[\"Categoria_pregunta\"].value_counts()\n",
    "\n",
    "# Mostrar los resultados\n",
    "print(\"Cantidad de preguntas por categoría:\")\n",
    "print(categoria_counts)"
   ]
  },
  {
   "cell_type": "code",
   "execution_count": null,
   "metadata": {},
   "outputs": [],
   "source": []
  }
 ],
 "metadata": {
  "kernelspec": {
   "display_name": "Python (venv)",
   "language": "python",
   "name": "venv"
  },
  "language_info": {
   "codemirror_mode": {
    "name": "ipython",
    "version": 3
   },
   "file_extension": ".py",
   "mimetype": "text/x-python",
   "name": "python",
   "nbconvert_exporter": "python",
   "pygments_lexer": "ipython3",
   "version": "3.12.4"
  }
 },
 "nbformat": 4,
 "nbformat_minor": 2
}
