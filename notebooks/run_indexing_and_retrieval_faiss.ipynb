{
 "cells": [
  {
   "cell_type": "code",
   "execution_count": 1,
   "metadata": {},
   "outputs": [
    {
     "name": "stdout",
     "output_type": "stream",
     "text": [
      "✅ Entorno configurado correctamente.\n"
     ]
    }
   ],
   "source": [
    "import ipywidgets as widgets\n",
    "from IPython.display import display\n",
    "import sys\n",
    "import os\n",
    "\n",
    "# Añadir la carpeta raíz del proyecto al sys.path\n",
    "PROJECT_ROOT = os.path.abspath(os.path.join(os.getcwd(), \"..\"))\n",
    "sys.path.append(PROJECT_ROOT)\n",
    "\n",
    "# Importar funciones desde los scripts de la carpeta src\n",
    "from src.local_indexing_faiss import load_and_process_pdfs, save_to_faiss\n",
    "from src.local_retrieval_and_generation_faiss import query_rag\n",
    "from src.get_embedding_function import get_embedding_function\n",
    "\n",
    "print(\"✅ Entorno configurado correctamente.\")"
   ]
  },
  {
   "cell_type": "code",
   "execution_count": 2,
   "metadata": {},
   "outputs": [
    {
     "name": "stdout",
     "output_type": "stream",
     "text": [
      "📂 Directorio de PDFs: c:\\Users\\zepol\\Documents\\UAM\\TFM\\extranjerIA\\data\\pdfs\n",
      "💾 Directorio de FAISS: c:\\Users\\zepol\\Documents\\UAM\\TFM\\extranjerIA\\data\\faiss_index\n"
     ]
    }
   ],
   "source": [
    "# Definir opciones para el usuario\n",
    "\n",
    "# Embeddings\n",
    "EMB_PROVIDERS = [\"huggingface\"]\n",
    "MODELS_HUGGINGFACE = [\n",
    "    \"distiluse-base-multilingual-cased-v1\", #135Mp\n",
    "    \"mrm8488/multilingual-e5-large-ft-sts-spanish-matryoshka-768-16-5e\" #560Mp\n",
    "]\n",
    "MODELS_OPENAI = [\"text-embedding-ada-002\"]\n",
    "\n",
    "# LLMs generadores de texto\n",
    "LLM_PROVIDERS = [\"groq\", \"huggingface\"]\n",
    "LLM_MODELS_GROQ = [\"mixtral-8x7b-32768\", \"deepseek-r1-distill-llama-70b\", \"llama-3.2-1b-preview\"]\n",
    "LLM_MODELS_OPENAI = []#\"gpt-3.5-turbo\", \"gpt-4\"\n",
    "LLM_MODELS_HUGGINGFACE = [\n",
    "    \"LenguajeNaturalAI/leniachat-gemma-2b-v0\",\n",
    "    \"deepseek-ai/DeepSeek-R1-Distill-Qwen-1.5B\"# \"deepseek-ai/DeepSeek-R1-Distill-Qwen-7B\"\n",
    "]\n",
    "\n",
    "# Calcular la ruta absoluta del directorio 'data/pdfs'\n",
    "PDF_FOLDER = os.path.join(PROJECT_ROOT, \"data\", \"pdfs\")\n",
    "FAISS_INDEX_DIR = os.path.join(PROJECT_ROOT, \"data\", \"faiss_index\")\n",
    "\n",
    "print(f\"📂 Directorio de PDFs: {PDF_FOLDER}\")\n",
    "print(f\"💾 Directorio de FAISS: {FAISS_INDEX_DIR}\")"
   ]
  },
  {
   "cell_type": "markdown",
   "metadata": {},
   "source": [
    "# Indexing..."
   ]
  },
  {
   "cell_type": "code",
   "execution_count": 3,
   "metadata": {},
   "outputs": [],
   "source": [
    "def update_model_options(change):\n",
    "    \"\"\"\n",
    "    Actualiza las opciones de modelo en función del proveedor seleccionado.\n",
    "\n",
    "    Args:\n",
    "        change (dict): Información sobre el cambio en el selector de proveedor.\n",
    "    \"\"\"\n",
    "    if change[\"new\"] == \"huggingface\":\n",
    "        model_selector.options = MODELS_HUGGINGFACE\n",
    "    elif change[\"new\"] == \"openai\":\n",
    "        model_selector.options = MODELS_OPENAI\n",
    "\n",
    "def update_llm_model_options(change):\n",
    "    \"\"\"\n",
    "    Actualiza las opciones de modelos LLM según el proveedor seleccionado.\n",
    "\n",
    "    Args:\n",
    "        change (dict): Contiene la información sobre el cambio en el selector de proveedor.\n",
    "    \"\"\"\n",
    "    if change[\"new\"] == \"groq\":\n",
    "        llm_model_selector.options = LLM_MODELS_GROQ\n",
    "    elif change[\"new\"] == \"openai\":\n",
    "        llm_model_selector.options = LLM_MODELS_OPENAI\n",
    "    elif change[\"new\"] == \"huggingface\":\n",
    "        llm_model_selector.options = LLM_MODELS_HUGGINGFACE\n",
    "\n",
    "def run_indexing(model_name, provider):\n",
    "    \"\"\"\n",
    "    Ejecuta el proceso de indexación de documentos en FAISS.\n",
    "\n",
    "    Args:\n",
    "        model_name (str): Modelo de embeddings a utilizar.\n",
    "        provider (str): Proveedor del modelo ('huggingface' o 'openai').\n",
    "    \"\"\"\n",
    "    \n",
    "    try:\n",
    "        print(f\"📂 Procesando documentos desde: {PDF_FOLDER}\")\n",
    "        chunks = load_and_process_pdfs(PDF_FOLDER)\n",
    "        if not chunks:\n",
    "            raise ValueError(\"No se encontraron documentos para indexar.\")\n",
    "        print(f\"📄 Se han generado {len(chunks)} fragmentos.\")\n",
    "\n",
    "        print(\"🔄 Guardando datos en FAISS...\")\n",
    "        save_to_faiss(chunks, model_name, provider)\n",
    "        print(\"✅ Base de datos FAISS actualizada exitosamente.\")\n",
    "    except FileNotFoundError:\n",
    "        print(\"❌ Error: La carpeta de PDFs no existe. Verifica la ruta.\")\n",
    "    except ValueError as ve:\n",
    "        print(f\"❌ Error: {ve}\")\n",
    "    except Exception as e:\n",
    "        print(f\"❌ Error inesperado durante la indexación: {e}\")\n",
    "\n",
    "def on_run_button_clicked(b):\n",
    "    \"\"\"\n",
    "    Llama a la función de indexación con los valores seleccionados.\n",
    "\n",
    "    Args:\n",
    "        b (widgets.Button): Botón que activa la función.\n",
    "    \"\"\"\n",
    "    run_indexing(model_selector.value, provider_selector.value)"
   ]
  },
  {
   "cell_type": "code",
   "execution_count": 4,
   "metadata": {},
   "outputs": [
    {
     "name": "stdout",
     "output_type": "stream",
     "text": [
      "📂 Procesando documentos desde: c:\\Users\\zepol\\Documents\\UAM\\TFM\\extranjerIA\\data\\pdfs\n",
      "📄 Procesando: 16Familiar_comunitario_inicial.pdf.pdf\n",
      "📄 Procesando: 17Familiar_comunitario_permanente.pdf.pdf\n",
      "📄 Procesando: 1Arraigo_familiar_inicial.pdf.pdf\n",
      "📄 Procesando: 1_Cuenta_ajena-inicial.pdf.pdf\n",
      "📄 Procesando: 22bis_Estudiantes-ERASMUS.pdf.pdf\n",
      "📄 Procesando: 26No_lucrativa_renovacion.pdf.pdf\n",
      "📄 Procesando: 27Razones_humanitarias.pdf.pdf\n",
      "📄 Procesando: 28Proteccion_internacional.pdf1.pdf\n",
      "📄 Procesando: 29bisViolencia_genero_Tarjeta_provisional.pdf.pdf\n",
      "📄 Procesando: 29Violencia_genero.pdf.pdf\n",
      "📄 Procesando: 2Arraigo_social.pdf.pdf\n",
      "📄 Procesando: 2_cuenta_ajena-renovacion.pdf.pdf\n",
      "📄 Procesando: 3-_CUENTA_AJENA-modificacion.pdf.pdf\n",
      "📄 Procesando: 4_Busqueda_empleo_proyecto_empresarial.pdf.pdf\n",
      "📄 Procesando: 4_Cuenta_ajena-modificacion_otra_situacion.pdf.pdf\n",
      "📄 Procesando: 5_Cuenta_propia-renovacion.pdf.pdf\n",
      "📄 Procesando: 6_cuenta_propia-modificacion_otrascircunstancias.pdf.pdf\n",
      "📄 Procesando: 7_cuenta_propia-modificaciones_otrasituacion.pdf.pdf\n",
      "📄 Procesando: Autorizacion_estancia_estudios_inicial.pdf.pdf\n",
      "📄 Procesando: Autorizacion_trabajo.pdf.pdf\n",
      "📄 Procesando: AUT_TRABJ_Familiares_UE_sin_TIE.pdf.pdf\n",
      "📄 Procesando: Como_pedir_Cita_Previa_Madrid.pdf0.pdf\n",
      "📄 Procesando: Enlace1_Solicitar_duplicado.pdf.pdf\n",
      "📄 Procesando: Estudiantes-residencia_practicas.pdf.pdf\n",
      "📄 Procesando: Estudiantes-trabajoparcial.pdf.pdf\n",
      "📄 Procesando: Extranjero_no_UE_estudiante_otro_pais_UE.pdf.pdf\n",
      "📄 Procesando: Familiares_estudiante_sin_NIE.pdf.pdf\n",
      "📄 Procesando: GUIA_BUENAS_PRACTICAS.pdf0.pdf\n",
      "📄 Procesando: Guia_informativa_basica_25-05-2022.pdf.pdf\n",
      "📄 Procesando: Indice_Documentacion_Esencial.pdf0.pdf\n",
      "📄 Procesando: Nota_empleadores.pdf.pdf\n",
      "📄 Procesando: Presentar_recursos.pdf.pdf\n",
      "📄 Procesando: Prorroga_estancia_estudios.pdf.pdf\n",
      "✅ Total de fragmentos generados: 511\n",
      "📄 Se han generado 511 fragmentos.\n",
      "🔄 Guardando datos en FAISS...\n",
      "⚙️ Cargando modelo de embeddings de Hugging Face: distiluse-base-multilingual-cased-v1\n",
      "✅ Índice FAISS guardado en c:\\Users\\zepol\\Documents\\UAM\\TFM\\extranjerIA\\data\\faiss_index_huggingface_distiluse-base-multilingual-cased-v1\n",
      "✅ Base de datos FAISS actualizada exitosamente.\n"
     ]
    }
   ],
   "source": [
    "# Widgets de selección para proveedor y modelo de embeddings\n",
    "provider_selector = widgets.Dropdown(\n",
    "    options=EMB_PROVIDERS,\n",
    "    description=\"Proveedor:\",\n",
    "    disabled=False,\n",
    ")\n",
    "\n",
    "model_selector = widgets.Dropdown(\n",
    "    description=\"Modelo:\",\n",
    "    disabled=False,\n",
    ")\n",
    "\n",
    "# Inicializar con modelos de Hugging Face por defecto\n",
    "update_model_options({\"new\": provider_selector.value})\n",
    "\n",
    "# Vincular la actualización al cambio de selección\n",
    "provider_selector.observe(update_model_options, names=\"value\")\n",
    "\n",
    "# Botón para ejecutar la indexación\n",
    "run_button = widgets.Button(\n",
    "    description=\"Ejecutar Indexación\",\n",
    "    button_style=\"success\"\n",
    ")\n",
    "\n",
    "# Widget de salida para mostrar resultados\n",
    "output = widgets.Output()\n",
    "\n",
    "# Asociar el botón con la función de ejecución\n",
    "run_button.on_click(on_run_button_clicked)"
   ]
  },
  {
   "cell_type": "code",
   "execution_count": 5,
   "metadata": {},
   "outputs": [
    {
     "data": {
      "application/vnd.jupyter.widget-view+json": {
       "model_id": "1bbf52f5a8fb424795951fc722d16449",
       "version_major": 2,
       "version_minor": 0
      },
      "text/plain": [
       "Dropdown(description='Proveedor:', options=('huggingface',), value='huggingface')"
      ]
     },
     "metadata": {},
     "output_type": "display_data"
    },
    {
     "data": {
      "application/vnd.jupyter.widget-view+json": {
       "model_id": "4cb669fe5e004ef5ac4d1794404db070",
       "version_major": 2,
       "version_minor": 0
      },
      "text/plain": [
       "Dropdown(description='Modelo:', options=('distiluse-base-multilingual-cased-v1', 'mrm8488/multilingual-e5-larg…"
      ]
     },
     "metadata": {},
     "output_type": "display_data"
    },
    {
     "data": {
      "application/vnd.jupyter.widget-view+json": {
       "model_id": "cb39e31a50144841b692c2175123e2bd",
       "version_major": 2,
       "version_minor": 0
      },
      "text/plain": [
       "Button(button_style='success', description='Ejecutar Indexación', style=ButtonStyle())"
      ]
     },
     "metadata": {},
     "output_type": "display_data"
    },
    {
     "data": {
      "application/vnd.jupyter.widget-view+json": {
       "model_id": "fb7608ee21324a4a9e882090e2bb057d",
       "version_major": 2,
       "version_minor": 0
      },
      "text/plain": [
       "Output()"
      ]
     },
     "metadata": {},
     "output_type": "display_data"
    }
   ],
   "source": [
    "# Mostrar la interfaz en el notebook\n",
    "display(provider_selector, model_selector, run_button, output)"
   ]
  },
  {
   "cell_type": "markdown",
   "metadata": {},
   "source": [
    "# Retrieval and generation..."
   ]
  },
  {
   "cell_type": "code",
   "execution_count": 6,
   "metadata": {},
   "outputs": [],
   "source": [
    "def display_query_interface():\n",
    "    \"\"\"\n",
    "    Muestra la interfaz de usuario para hacer consultas al sistema RAG.\n",
    "    Permite seleccionar proveedor de embeddings, modelo, LLM, y realizar consultas.\n",
    "    \"\"\"\n",
    "    # Establecer un valor predeterminado para la consulta\n",
    "    default_query = \"¿Cuáles son los requisitos para la residencia en España?\"\n",
    "\n",
    "    # Widgets para seleccionar el proveedor y modelo de embeddings\n",
    "    embedding_provider_selector = widgets.Dropdown(\n",
    "        options=EMB_PROVIDERS,\n",
    "        description=\"Emb. Prov:\",\n",
    "        disabled=False,\n",
    "    )\n",
    "\n",
    "    embedding_model_selector = widgets.Dropdown(\n",
    "        options=MODELS_HUGGINGFACE,\n",
    "        description=\"Emb. Mod:\",\n",
    "        disabled=False,\n",
    "    )\n",
    "\n",
    "    # Widgets para seleccionar el proveedor y modelo de LLM\n",
    "    llm_provider_selector = widgets.Dropdown(\n",
    "        options=LLM_PROVIDERS,\n",
    "        description=\"LLM Prov:\",\n",
    "        disabled=False,\n",
    "    )\n",
    "\n",
    "    llm_model_selector = widgets.Dropdown(\n",
    "        description=\"LLM Mod:\",\n",
    "        disabled=False,\n",
    "    )\n",
    "\n",
    "    # Función para actualizar modelos de embeddings en función del proveedor seleccionado\n",
    "    def update_embedding_model_options(change):\n",
    "        if change[\"new\"] == \"huggingface\":\n",
    "            embedding_model_selector.options = MODELS_HUGGINGFACE\n",
    "        elif change[\"new\"] == \"openai\":\n",
    "            embedding_model_selector.options = MODELS_OPENAI\n",
    "\n",
    "    # Función para actualizar modelos de LLM según el proveedor seleccionado\n",
    "    def update_llm_model_options(change):\n",
    "        if change[\"new\"] == \"groq\":\n",
    "            llm_model_selector.options = LLM_MODELS_GROQ\n",
    "        elif change[\"new\"] == \"openai\":\n",
    "            llm_model_selector.options = LLM_MODELS_OPENAI\n",
    "        elif change[\"new\"] == \"huggingface\":\n",
    "            llm_model_selector.options = LLM_MODELS_HUGGINGFACE\n",
    "\n",
    "    # Asociar eventos de cambio a los selectores\n",
    "    embedding_provider_selector.observe(update_embedding_model_options, names=\"value\")\n",
    "    llm_provider_selector.observe(update_llm_model_options, names=\"value\")\n",
    "\n",
    "    # Inicializar opciones de modelos con la selección actual\n",
    "    update_embedding_model_options({\"new\": embedding_provider_selector.value})\n",
    "    update_llm_model_options({\"new\": llm_provider_selector.value})\n",
    "\n",
    "    # Widget para ingresar la consulta\n",
    "    query_input = widgets.Textarea(\n",
    "        value=default_query,\n",
    "        description=\"Consulta:\",\n",
    "        layout=widgets.Layout(width='100%', height='80px')\n",
    "    )\n",
    "\n",
    "    # Botón para ejecutar la consulta\n",
    "    run_button = widgets.Button(\n",
    "        description=\"Ejecutar Consulta\",\n",
    "        button_style=\"success\"\n",
    "    )\n",
    "\n",
    "    # Widget de salida para mostrar resultados\n",
    "    output = widgets.Output()\n",
    "\n",
    "    # Función para ejecutar la consulta\n",
    "    def run_retrieval(b):\n",
    "        # with output:\n",
    "        #     output.clear_output()\n",
    "        print(f\"🔍 Ejecutando consulta con:\")\n",
    "        print(f\"  - Embedding Provider: {embedding_provider_selector.value}\")\n",
    "        print(f\"  - Embedding Model: {embedding_model_selector.value}\")\n",
    "        print(f\"  - LLM Provider: {llm_provider_selector.value}\")\n",
    "        print(f\"  - LLM Model: {llm_model_selector.value}\")\n",
    "        print(f\"  - Pregunta: {query_input.value}\")\n",
    "\n",
    "        try:\n",
    "            result = query_rag(\n",
    "                query_input.value, \n",
    "                embedding_provider_selector.value, \n",
    "                embedding_model_selector.value, \n",
    "                llm_provider_selector.value, \n",
    "                llm_model_selector.value                    \n",
    "            )\n",
    "\n",
    "            print(\"\\n📝 Respuesta generada:\")\n",
    "            print(result[\"response\"])\n",
    "\n",
    "            print(\"\\n📄 Documentos fuente con puntuación:\")\n",
    "            for item in result[\"sources\"]:\n",
    "                print(f\"Documento: {item['metadata']} - Score: {item['score']:.4f}\")\n",
    "\n",
    "            print(\"\\n✅ Proceso de generación completado exitosamente.\")\n",
    "        except Exception as e:\n",
    "            print(f\"❌ Error durante la consulta: {e}\")\n",
    "\n",
    "    # Asociar el botón a la función de consulta\n",
    "    run_button.on_click(run_retrieval)\n",
    "\n",
    "    # Mostrar todos los widgets en la celda de ejecución\n",
    "    display(embedding_provider_selector, embedding_model_selector, \n",
    "            llm_provider_selector, llm_model_selector, \n",
    "            query_input, run_button, output)"
   ]
  },
  {
   "cell_type": "code",
   "execution_count": 7,
   "metadata": {},
   "outputs": [
    {
     "data": {
      "application/vnd.jupyter.widget-view+json": {
       "model_id": "ca5152da03774f5490d1635fd9e32689",
       "version_major": 2,
       "version_minor": 0
      },
      "text/plain": [
       "Dropdown(description='Emb. Prov:', options=('huggingface',), value='huggingface')"
      ]
     },
     "metadata": {},
     "output_type": "display_data"
    },
    {
     "data": {
      "application/vnd.jupyter.widget-view+json": {
       "model_id": "06a036cc0b7d48179690a7cbdd72dc92",
       "version_major": 2,
       "version_minor": 0
      },
      "text/plain": [
       "Dropdown(description='Emb. Mod:', options=('distiluse-base-multilingual-cased-v1', 'mrm8488/multilingual-e5-la…"
      ]
     },
     "metadata": {},
     "output_type": "display_data"
    },
    {
     "data": {
      "application/vnd.jupyter.widget-view+json": {
       "model_id": "ed1c148a148d41718dcb9637376b92ed",
       "version_major": 2,
       "version_minor": 0
      },
      "text/plain": [
       "Dropdown(description='LLM Prov:', options=('groq', 'huggingface'), value='groq')"
      ]
     },
     "metadata": {},
     "output_type": "display_data"
    },
    {
     "data": {
      "application/vnd.jupyter.widget-view+json": {
       "model_id": "e4a11ce8bddc44a6b69f6cb73bd3c359",
       "version_major": 2,
       "version_minor": 0
      },
      "text/plain": [
       "Dropdown(description='LLM Mod:', options=('mixtral-8x7b-32768', 'deepseek-r1-distill-llama-70b', 'llama-3.2-1b…"
      ]
     },
     "metadata": {},
     "output_type": "display_data"
    },
    {
     "data": {
      "application/vnd.jupyter.widget-view+json": {
       "model_id": "5ad33682fe0c450abe4bf313d3c8b896",
       "version_major": 2,
       "version_minor": 0
      },
      "text/plain": [
       "Textarea(value='¿Cuáles son los requisitos para la residencia en España?', description='Consulta:', layout=Lay…"
      ]
     },
     "metadata": {},
     "output_type": "display_data"
    },
    {
     "data": {
      "application/vnd.jupyter.widget-view+json": {
       "model_id": "e35d8d0884e04ca3bcb8512ba8ad5316",
       "version_major": 2,
       "version_minor": 0
      },
      "text/plain": [
       "Button(button_style='success', description='Ejecutar Consulta', style=ButtonStyle())"
      ]
     },
     "metadata": {},
     "output_type": "display_data"
    },
    {
     "data": {
      "application/vnd.jupyter.widget-view+json": {
       "model_id": "d2bc22611b524218bfb45c50c40e435a",
       "version_major": 2,
       "version_minor": 0
      },
      "text/plain": [
       "Output()"
      ]
     },
     "metadata": {},
     "output_type": "display_data"
    },
    {
     "name": "stdout",
     "output_type": "stream",
     "text": [
      "🔍 Ejecutando consulta con:\n",
      "  - Embedding Provider: huggingface\n",
      "  - Embedding Model: distiluse-base-multilingual-cased-v1\n",
      "  - LLM Provider: groq\n",
      "  - LLM Model: llama-3.2-1b-preview\n",
      "  - Pregunta: ¿Cuáles son los requisitos para la residencia en España?\n",
      "⚙️ Cargando modelo de embeddings de Hugging Face: distiluse-base-multilingual-cased-v1\n",
      "📂 Cargando índice FAISS desde: c:\\Users\\zepol\\Documents\\UAM\\TFM\\extranjerIA\\data\\faiss_index_huggingface_distiluse-base-multilingual-cased-v1\n",
      "\u001b[31m\n",
      "\n",
      "Eres un asistente experto en extranjería en España. Debes responder en **español** y basarte únicamente en el contexto siguiente:\n",
      "\n",
      "***Contexto:\n",
      "\n",
      "--Texto 1: Migraciones (inclusion.gob.es) \n",
      "• Padrón histórico, etc. (permanencia continuada en España durante los 2 años anteriores a la solicitud). \n",
      "• Compromiso de formación EX10. \n",
      "LABORAL. Más información en: Autorización de residencia temporal por circunstancias excepcionales. \n",
      "Arraigo laboral (HI 35) - Migraciones - Ministerio de Inclusión, Seguridad Social y Migraciones \n",
      "(inclusion.gob.es)\n",
      "\n",
      "----\n",
      "\n",
      "--Texto 2: españoles…. \n",
      " \n",
      "3. Los titulares de los derechos a que se refieren los apartados anteriores que \n",
      "pretendan permanecer o fijar su residencia en España durante más de tres meses \n",
      "estarán obligados a solicitar un certificado de registro o una tarjeta de residencia de \n",
      "familiar de ciudadano de la Unión, según el procedimiento establecido en la \n",
      "presente norma. \n",
      " \n",
      "En su artículo 8, puntos 1 y 2, se establece que los familiares de los ciudadanos de la \n",
      "Unión Europea, cuando le acompañen o se reúnan con él, podrán residir en España por un \n",
      "periodo superior a tres meses, estando sujetos a la obligación de solicitar y obtener  una \n",
      "“tarjeta de residencia de familiar de ciudadano de la Unión”.  \n",
      "La solicitud de  la tarjeta de residencia de familiar de ciudadano de le Unión, deberá\n",
      "\n",
      "----\n",
      "\n",
      "--Texto 3: • Medios económicos: contrato, nóminas, etc. \n",
      "• Informe de vivienda adecuada. \n",
      "Más información en: Autorización de residencia de extranjero menor de edad no nacido en España (HI 59) - \n",
      "Migraciones - Ministerio de Inclusión, Seguridad Social y Migraciones (inclusion.gob.es) \n",
      " \n",
      "REAGRUPACIÓN FAMILIAR INICIAL. \n",
      "Documentación común: \n",
      "➢ Formulario EX02. \n",
      "➢ Pasaporte del reagrupante. \n",
      "➢ Pasaporte del reagrupado. \n",
      "➢ Documentación de medios económicos: contrato, nóminas, etc. \n",
      "➢ Padrón familiar actual. \n",
      "➢ Informe de vivienda adecuada. \n",
      "Más información en: Autorización de residencia de extranjero menor de edad no nacido en España (HI 59) - \n",
      "Migraciones - Ministerio de Inclusión, Seguridad Social y Migraciones (inclusion.gob.es) \n",
      "• Cónyuge: \n",
      "o Certificado reciente de matrimonio.\n",
      "\n",
      "----\n",
      "--------------------------\n",
      "\n",
      "Responde en español a la siguiente pregunta basándote únicamente en el anterior contexto:\n",
      "¿Cuáles son los requisitos para la residencia en España?\n",
      "\n",
      "\u001b[0m\n",
      "⚙️ Usando modelo de Groq: llama-3.2-1b-preview\n",
      "\n",
      "📝 Respuesta generada:\n",
      "Según el texto proporcionado, los requisitos para la residencia en España son los siguientes:\n",
      "\n",
      "1. **Padrón histórico o inmigrante**: La mayoría de las personas que buscan residir en España tienen una parrilla histórica o están inmigrantes. No suelen tener un requisito de permanencia continuada en España durante los 2 años anteriores a la solicitud.\n",
      "\n",
      "2. **Compromiso de formación EX10**: La autorización de residencia temporal por circunstancias excepcionales requiere que los solicitantes tengan un compromiso de formación EX10, que comprende 4 años de formación, 1 año de práctica profesional y 1 año de experiencia laboral.\n",
      "\n",
      "3. **Arraigo laboral (HI 35)**: La autorización de residencia temporal por circunstancias excepcionales también requiere que los solicitantes hayan sido contratados por un despacho laboral (laboral) con una tarifa económica correspondiente (HI 35).\n",
      "\n",
      "4. **Solicitar certificado de registro o tarjeta de residencia de familiar de ciudadano de la Unión**: Los familiares de ciudadanos de la Unión Europea que desean residir en España por un período superior a tres meses deben solicitar un certificado de registro o una tarjeta de residencia de familiar de ciudadano de la Unión.\n",
      "\n",
      "📄 Documentos fuente con puntuación:\n",
      "Documento: c:\\Users\\zepol\\Documents\\UAM\\TFM\\extranjerIA\\data\\pdfs\\Indice_Documentacion_Esencial.pdf0.pdf - Score: 0.5161\n",
      "Documento: c:\\Users\\zepol\\Documents\\UAM\\TFM\\extranjerIA\\data\\pdfs\\AUT_TRABJ_Familiares_UE_sin_TIE.pdf.pdf - Score: 0.4934\n",
      "Documento: c:\\Users\\zepol\\Documents\\UAM\\TFM\\extranjerIA\\data\\pdfs\\Indice_Documentacion_Esencial.pdf0.pdf - Score: 0.4611\n",
      "\n",
      "✅ Proceso de generación completado exitosamente.\n"
     ]
    }
   ],
   "source": [
    "display_query_interface()"
   ]
  },
  {
   "cell_type": "code",
   "execution_count": 8,
   "metadata": {},
   "outputs": [
    {
     "data": {
      "application/vnd.jupyter.widget-view+json": {
       "model_id": "06cc51d68e4e4489b54c41fa7c80ee21",
       "version_major": 2,
       "version_minor": 0
      },
      "text/plain": [
       "Dropdown(description='Emb. Prov:', options=('huggingface',), value='huggingface')"
      ]
     },
     "metadata": {},
     "output_type": "display_data"
    },
    {
     "data": {
      "application/vnd.jupyter.widget-view+json": {
       "model_id": "2231bd2530bc4d61a10935d8a4745c97",
       "version_major": 2,
       "version_minor": 0
      },
      "text/plain": [
       "Dropdown(description='Emb. Mod:', options=('distiluse-base-multilingual-cased-v1', 'mrm8488/multilingual-e5-la…"
      ]
     },
     "metadata": {},
     "output_type": "display_data"
    },
    {
     "data": {
      "application/vnd.jupyter.widget-view+json": {
       "model_id": "dfaa9d8b81d04fb3b407d75395d3a17a",
       "version_major": 2,
       "version_minor": 0
      },
      "text/plain": [
       "Dropdown(description='LLM Prov:', options=('groq', 'huggingface'), value='groq')"
      ]
     },
     "metadata": {},
     "output_type": "display_data"
    },
    {
     "data": {
      "application/vnd.jupyter.widget-view+json": {
       "model_id": "23dee2dcfd2a4e2182f7a14461f9342b",
       "version_major": 2,
       "version_minor": 0
      },
      "text/plain": [
       "Dropdown(description='LLM Mod:', options=('mixtral-8x7b-32768', 'deepseek-r1-distill-llama-70b', 'llama-3.2-1b…"
      ]
     },
     "metadata": {},
     "output_type": "display_data"
    },
    {
     "data": {
      "application/vnd.jupyter.widget-view+json": {
       "model_id": "f4d21b0939f44a92bd83aa8e0768fb99",
       "version_major": 2,
       "version_minor": 0
      },
      "text/plain": [
       "Textarea(value='¿Cuáles son los requisitos para la residencia en España?', description='Consulta:', layout=Lay…"
      ]
     },
     "metadata": {},
     "output_type": "display_data"
    },
    {
     "data": {
      "application/vnd.jupyter.widget-view+json": {
       "model_id": "fb93111d49b64642b0f71e56dc9595ab",
       "version_major": 2,
       "version_minor": 0
      },
      "text/plain": [
       "Button(button_style='success', description='Ejecutar Consulta', style=ButtonStyle())"
      ]
     },
     "metadata": {},
     "output_type": "display_data"
    },
    {
     "data": {
      "application/vnd.jupyter.widget-view+json": {
       "model_id": "ce4c1ee4cab74d6fb57aa5a3e9a36124",
       "version_major": 2,
       "version_minor": 0
      },
      "text/plain": [
       "Output()"
      ]
     },
     "metadata": {},
     "output_type": "display_data"
    },
    {
     "name": "stdout",
     "output_type": "stream",
     "text": [
      "🔍 Ejecutando consulta con:\n",
      "  - Embedding Provider: huggingface\n",
      "  - Embedding Model: distiluse-base-multilingual-cased-v1\n",
      "  - LLM Provider: huggingface\n",
      "  - LLM Model: deepseek-ai/DeepSeek-R1-Distill-Qwen-1.5B\n",
      "  - Pregunta: ¿Cuáles son los requisitos para la residencia en España?\n",
      "⚙️ Cargando modelo de embeddings de Hugging Face: distiluse-base-multilingual-cased-v1\n",
      "📂 Cargando índice FAISS desde: c:\\Users\\zepol\\Documents\\UAM\\TFM\\extranjerIA\\data\\faiss_index_huggingface_distiluse-base-multilingual-cased-v1\n",
      "\u001b[31m\n",
      "\n",
      "Eres un asistente experto en extranjería en España. Debes responder en **español** y basarte únicamente en el contexto siguiente:\n",
      "\n",
      "***Contexto:\n",
      "\n",
      "--Texto 1: Migraciones (inclusion.gob.es) \n",
      "• Padrón histórico, etc. (permanencia continuada en España durante los 2 años anteriores a la solicitud). \n",
      "• Compromiso de formación EX10. \n",
      "LABORAL. Más información en: Autorización de residencia temporal por circunstancias excepcionales. \n",
      "Arraigo laboral (HI 35) - Migraciones - Ministerio de Inclusión, Seguridad Social y Migraciones \n",
      "(inclusion.gob.es)\n",
      "\n",
      "----\n",
      "\n",
      "--Texto 2: españoles…. \n",
      " \n",
      "3. Los titulares de los derechos a que se refieren los apartados anteriores que \n",
      "pretendan permanecer o fijar su residencia en España durante más de tres meses \n",
      "estarán obligados a solicitar un certificado de registro o una tarjeta de residencia de \n",
      "familiar de ciudadano de la Unión, según el procedimiento establecido en la \n",
      "presente norma. \n",
      " \n",
      "En su artículo 8, puntos 1 y 2, se establece que los familiares de los ciudadanos de la \n",
      "Unión Europea, cuando le acompañen o se reúnan con él, podrán residir en España por un \n",
      "periodo superior a tres meses, estando sujetos a la obligación de solicitar y obtener  una \n",
      "“tarjeta de residencia de familiar de ciudadano de la Unión”.  \n",
      "La solicitud de  la tarjeta de residencia de familiar de ciudadano de le Unión, deberá\n",
      "\n",
      "----\n",
      "\n",
      "--Texto 3: • Medios económicos: contrato, nóminas, etc. \n",
      "• Informe de vivienda adecuada. \n",
      "Más información en: Autorización de residencia de extranjero menor de edad no nacido en España (HI 59) - \n",
      "Migraciones - Ministerio de Inclusión, Seguridad Social y Migraciones (inclusion.gob.es) \n",
      " \n",
      "REAGRUPACIÓN FAMILIAR INICIAL. \n",
      "Documentación común: \n",
      "➢ Formulario EX02. \n",
      "➢ Pasaporte del reagrupante. \n",
      "➢ Pasaporte del reagrupado. \n",
      "➢ Documentación de medios económicos: contrato, nóminas, etc. \n",
      "➢ Padrón familiar actual. \n",
      "➢ Informe de vivienda adecuada. \n",
      "Más información en: Autorización de residencia de extranjero menor de edad no nacido en España (HI 59) - \n",
      "Migraciones - Ministerio de Inclusión, Seguridad Social y Migraciones (inclusion.gob.es) \n",
      "• Cónyuge: \n",
      "o Certificado reciente de matrimonio.\n",
      "\n",
      "----\n",
      "\n",
      "--Texto 4: en España). \n",
      "Más información en: \n",
      "Autorización inicial de residencia temporal y trabajo por cuenta ajena (HI 16) - Migraciones - Ministerio de \n",
      "Inclusión, Seguridad Social y Migraciones (inclusion.gob.es) \n",
      "Modificación de la situación de estancia por estudios, investigación, formación o prácticas a la situación de \n",
      "residencia y trabajo por cuenta ajena inicial. Incluye anexo de Familiares (HI 65) - Migraciones - Ministerio \n",
      "de Inclusión, Seguridad Social y Migraciones (inclusion.gob.es) \n",
      "Modificación del régimen comunitario a la situación de residencia y trabajo por cuenta ajena nulidad vínculo \n",
      "matrimonial, divorcio o cancelación de la inscripción como pareja registrara (HI 76) - Migraciones - Ministerio \n",
      "de Inclusión, Seguridad Social y Migraciones (inclusion.gob.es)\n",
      "\n",
      "----\n",
      "\n",
      "--Texto 5: Migraciones (inclusion.gob.es) \n",
      " \n",
      "CIRCUNSTANCIAS EXCEPCIONALES POR RAZONES HUMANITARIAS. \n",
      "Incluida Disposición Adicional 1ª. 4 del RD 557/2011, de 20 de abril. \n",
      "Documentación común: \n",
      "➢ Formulario EX10. \n",
      "➢ Pasaporte completo. \n",
      "➢ Certificado de antecedentes penales (país/es de residencia de los 5 últimos años anteriores a entrada en \n",
      "España). \n",
      "Más información en: Autorización de residencia temporal por circunstancias excepcionales por razones \n",
      "humanitarias. Incluye anexo de autorización de trabajo (HI 39) - Migraciones - Ministerio de Inclusión, \n",
      "Seguridad Social y Migraciones (inclusion.gob.es) \n",
      "• Víctima de: delitos contra los derechos de los trabajadores, delitos con agravante por motivos \n",
      "racistas, antisemitas u otra clase de discriminación (art. 22.4 del Código Penal) o delitos por\n",
      "\n",
      "----\n",
      "\n",
      "--Texto 6: tenga una notificación pendiente. \n",
      "(9) Marque la opción que corresponda. \n",
      "(10) Supuestos específicos de exención de la situación nacional de empleo recogidos en el art. 40 de la LO 4/2000, de 11 de enero. \n",
      "(1) - Cónyuge de extranjero con autorización de residencia renovada \n",
      "(2) - Hijo de extranjero con autorización de residencia renovada \n",
      "(3) - Hijo de español nacionalizado que ha residido en España al menos durante un año \n",
      "(4) - Hijo de ciudadano de la UE o EEE que hayan residido en España al menos durante un año \n",
      "(5) - Trabajador para el montaje de una instalación de equipos productivos \n",
      "(6) - Refugiado que ha cesado en esa condición  \n",
      "(7) - Apátrida que ha perdido tal condición \n",
      "(8) - Extranjero que tiene a cargo ascendientes o descendientes de nacionalidad española\n",
      "\n",
      "----\n",
      "\n",
      "--Texto 7: tenga una notificación pendiente. \n",
      "(9) Marque la opción que corresponda. \n",
      "(10) Supuestos específicos de exención de la situación nacional de empleo recogidos en el art. 40 de la LO 4/2000, de 11 de enero. \n",
      "(1) - Cónyuge de extranjero con autorización de residencia renovada \n",
      "(2) - Hijo de extranjero con autorización de residencia renovada \n",
      "(3) - Hijo de español nacionalizado que ha residido en España al menos durante un año \n",
      "(4) - Hijo de ciudadano de la UE o EEE que hayan residido en España al menos durante un año \n",
      "(5) - Trabajador para el montaje de una instalación de equipos productivos \n",
      "(6) - Refugiado que ha cesado en esa condición  \n",
      "(7) - Apátrida que ha perdido tal condición \n",
      "(8) - Extranjero que tiene a cargo ascendientes o descendientes de nacionalidad española\n",
      "\n",
      "----\n",
      "\n",
      "--Texto 8: tenga una notificación pendiente. \n",
      "(9) Marque la opción que corresponda. \n",
      "(10) Supuestos específicos de exención de la situación nacional de empleo recogidos en el art. 40 de la LO 4/2000, de 11 de enero. \n",
      "(1) - Cónyuge de extranjero con autorización de residencia renovada \n",
      "(2) - Hijo de extranjero con autorización de residencia renovada \n",
      "(3) - Hijo de español nacionalizado que ha residido en España al menos durante un año \n",
      "(4) - Hijo de ciudadano de la UE o EEE que hayan residido en España al menos durante un año \n",
      "(5) - Trabajador para el montaje de una instalación de equipos productivos \n",
      "(6) - Refugiado que ha cesado en esa condición  \n",
      "(7) - Apátrida que ha perdido tal condición \n",
      "(8) - Extranjero que tiene a cargo ascendientes o descendientes de nacionalidad española\n",
      "\n",
      "----\n",
      "\n",
      "--Texto 9: tenga una notificación pendiente. \n",
      "(9) Marque la opción que corresponda. \n",
      "(10) Supuestos específicos de exención de la situación nacional de empleo recogidos en el art. 40 de la LO 4/2000, de 11 de enero. \n",
      "(1) - Cónyuge de extranjero con autorización de residencia renovada \n",
      "(2) - Hijo de extranjero con autorización de residencia renovada \n",
      "(3) - Hijo de español nacionalizado que ha residido en España al menos durante un año \n",
      "(4) - Hijo de ciudadano de la UE o EEE que hayan residido en España al menos durante un año \n",
      "(5) - Trabajador para el montaje de una instalación de equipos productivos \n",
      "(6) - Refugiado que ha cesado en esa condición  \n",
      "(7) - Apátrida que ha perdido tal condición \n",
      "(8) - Extranjero que tiene a cargo ascendientes o descendientes de nacionalidad española\n",
      "\n",
      "----\n",
      "\n",
      "--Texto 10: 3/8 \n",
      " \n",
      "• Padrón histórico, etc. (permanencia continuada en España durante los 2 años anteriores a la solicitud). \n",
      "• Informe de vida laboral. \n",
      " \n",
      "TARJETA DE RESIDENCIA TEMPORAL DE FAMILIAR DE CIUDADANO DE LA UNIÓN INICIAL. \n",
      "Documentación común: \n",
      "➢ Formulario EX19 firmado por familiar Y ciudadano de la Unión. \n",
      "➢ Pasaporte del familiar. \n",
      "➢ DNI (ciudadano español) o CUE + pasaporte (ciudadano UE/EEE/Suiza). \n",
      "➢ Medios económicos: contrato, nóminas, certificados bancarios, etc.  \n",
      "➢ Padrón familiar actual. \n",
      "Más información en: Tarjeta de residencia de familiar de ciudadano de la Unión Europe (HI 102) - \n",
      "Migraciones - Ministerio de Inclusión, Seguridad Social y Migraciones (inclusion.gob.es) \n",
      "• Cónyuge/pareja registrada: \n",
      "o Certificado reciente de matrimonio/pareja registrada.\n",
      "\n",
      "----\n",
      "--------------------------\n",
      "\n",
      "Responde en español a la siguiente pregunta basándote únicamente en el anterior contexto:\n",
      "¿Cuáles son los requisitos para la residencia en España?\n",
      "\n",
      "\u001b[0m\n",
      "⚙️ Usando modelo de Hugging Face: deepseek-ai/DeepSeek-R1-Distill-Qwen-1.5B\n"
     ]
    },
    {
     "name": "stderr",
     "output_type": "stream",
     "text": [
      "Device set to use cpu\n"
     ]
    },
    {
     "name": "stdout",
     "output_type": "stream",
     "text": [
      "\n",
      "📝 Respuesta generada:\n",
      "\n",
      "Eres un asistente experto en extranjería en España. Debes responder en **español** y basarte únicamente en el contexto siguiente:\n",
      "\n",
      "***Contexto:\n",
      "\n",
      "--Texto 1: Migraciones (inclusion.gob.es) \n",
      "• Padrón histórico, etc. (permanencia continuada en España durante los 2 años anteriores a la solicitud). \n",
      "• Compromiso de formación EX10. \n",
      "LABORAL. Más información en: Autorización de residencia temporal por circunstancias excepcionales. \n",
      "Arraigo laboral (HI 35) - Migraciones - Ministerio de Inclusión, Seguridad Social y Migraciones \n",
      "(inclusion.gob.es)\n",
      "\n",
      "----\n",
      "\n",
      "--Texto 2: españoles…. \n",
      " \n",
      "3. Los titulares de los derechos a que se refieren los apartados anteriores que \n",
      "pretendan permanecer o fijar su residencia en España durante más de tres meses \n",
      "estarán obligados a solicitar un certificado de registro o una tarjeta de residencia de \n",
      "familiar de ciudadano de la Unión, según el procedimiento establecido en la \n",
      "presente norma. \n",
      " \n",
      "En su artículo 8, puntos 1 y 2, se establece que los familiares de los ciudadanos de la \n",
      "Unión Europea, cuando le acompañen o se reúnan con él, podrán residir en España por un \n",
      "periodo superior a tres meses, estando sujetos a la obligación de solicitar y obtener  una \n",
      "“tarjeta de residencia de familiar de ciudadano de la Unión”.  \n",
      "La solicitud de  la tarjeta de residencia de familiar de ciudadano de le Unión, deberá\n",
      "\n",
      "----\n",
      "\n",
      "--Texto 3: • Medios económicos: contrato, nóminas, etc. \n",
      "• Informe de vivienda adecuada. \n",
      "Más información en: Autorización de residencia de extranjero menor de edad no nacido en España (HI 59) - \n",
      "Migraciones - Ministerio de Inclusión, Seguridad Social y Migraciones (inclusion.gob.es) \n",
      " \n",
      "REAGRUPACIÓN FAMILIAR INICIAL. \n",
      "Documentación común: \n",
      "➢ Formulario EX02. \n",
      "➢ Pasaporte del reagrupante. \n",
      "➢ Pasaporte del reagrupado. \n",
      "➢ Documentación de medios económicos: contrato, nóminas, etc. \n",
      "➢ Padrón familiar actual. \n",
      "➢ Informe de vivienda adecuada. \n",
      "Más información en: Autorización de residencia de extranjero menor de edad no nacido en España (HI 59) - \n",
      "Migraciones - Ministerio de Inclusión, Seguridad Social y Migraciones (inclusion.gob.es) \n",
      "• Cónyuge: \n",
      "o Certificado reciente de matrimonio.\n",
      "\n",
      "----\n",
      "\n",
      "--Texto 4: en España). \n",
      "Más información en: \n",
      "Autorización inicial de residencia temporal y trabajo por cuenta ajena (HI 16) - Migraciones - Ministerio de \n",
      "Inclusión, Seguridad Social y Migraciones (inclusion.gob.es) \n",
      "Modificación de la situación de estancia por estudios, investigación, formación o prácticas a la situación de \n",
      "residencia y trabajo por cuenta ajena inicial. Incluye anexo de Familiares (HI 65) - Migraciones - Ministerio \n",
      "de Inclusión, Seguridad Social y Migraciones (inclusion.gob.es) \n",
      "Modificación del régimen comunitario a la situación de residencia y trabajo por cuenta ajena nulidad vínculo \n",
      "matrimonial, divorcio o cancelación de la inscripción como pareja registrara (HI 76) - Migraciones - Ministerio \n",
      "de Inclusión, Seguridad Social y Migraciones (inclusion.gob.es)\n",
      "\n",
      "----\n",
      "\n",
      "--Texto 5: Migraciones (inclusion.gob.es) \n",
      " \n",
      "CIRCUNSTANCIAS EXCEPCIONALES POR RAZONES HUMANITARIAS. \n",
      "Incluida Disposición Adicional 1ª. 4 del RD 557/2011, de 20 de abril. \n",
      "Documentación común: \n",
      "➢ Formulario EX10. \n",
      "➢ Pasaporte completo. \n",
      "➢ Certificado de antecedentes penales (país/es de residencia de los 5 últimos años anteriores a entrada en \n",
      "España). \n",
      "Más información en: Autorización de residencia temporal por circunstancias excepcionales por razones \n",
      "humanitarias. Incluye anexo de autorización de trabajo (HI 39) - Migraciones - Ministerio de Inclusión, \n",
      "Seguridad Social y Migraciones (inclusion.gob.es) \n",
      "• Víctima de: delitos contra los derechos de los trabajadores, delitos con agravante por motivos \n",
      "racistas, antisemitas u otra clase de discriminación (art. 22.4 del Código Penal) o delitos por\n",
      "\n",
      "----\n",
      "\n",
      "--Texto 6: tenga una notificación pendiente. \n",
      "(9) Marque la opción que corresponda. \n",
      "(10) Supuestos específicos de exención de la situación nacional de empleo recogidos en el art. 40 de la LO 4/2000, de 11 de enero. \n",
      "(1) - Cónyuge de extranjero con autorización de residencia renovada \n",
      "(2) - Hijo de extranjero con autorización de residencia renovada \n",
      "(3) - Hijo de español nacionalizado que ha residido en España al menos durante un año \n",
      "(4) - Hijo de ciudadano de la UE o EEE que hayan residido en España al menos durante un año \n",
      "(5) - Trabajador para el montaje de una instalación de equipos productivos \n",
      "(6) - Refugiado que ha cesado en esa condición  \n",
      "(7) - Apátrida que ha perdido tal condición \n",
      "(8) - Extranjero que tiene a cargo ascendientes o descendientes de nacionalidad española\n",
      "\n",
      "----\n",
      "\n",
      "--Texto 7: tenga una notificación pendiente. \n",
      "(9) Marque la opción que corresponda. \n",
      "(10) Supuestos específicos de exención de la situación nacional de empleo recogidos en el art. 40 de la LO 4/2000, de 11 de enero. \n",
      "(1) - Cónyuge de extranjero con autorización de residencia renovada \n",
      "(2) - Hijo de extranjero con autorización de residencia renovada \n",
      "(3) - Hijo de español nacionalizado que ha residido en España al menos durante un año \n",
      "(4) - Hijo de ciudadano de la UE o EEE que hayan residido en España al menos durante un año \n",
      "(5) - Trabajador para el montaje de una instalación de equipos productivos \n",
      "(6) - Refugiado que ha cesado en esa condición  \n",
      "(7) - Apátrida que ha perdido tal condición \n",
      "(8) - Extranjero que tiene a cargo ascendientes o descendientes de nacionalidad española\n",
      "\n",
      "----\n",
      "\n",
      "--Texto 8: tenga una notificación pendiente. \n",
      "(9) Marque la opción que corresponda. \n",
      "(10) Supuestos específicos de exención de la situación nacional de empleo recogidos en el art. 40 de la LO 4/2000, de 11 de enero. \n",
      "(1) - Cónyuge de extranjero con autorización de residencia renovada \n",
      "(2) - Hijo de extranjero con autorización de residencia renovada \n",
      "(3) - Hijo de español nacionalizado que ha residido en España al menos durante un año \n",
      "(4) - Hijo de ciudadano de la UE o EEE que hayan residido en España al menos durante un año \n",
      "(5) - Trabajador para el montaje de una instalación de equipos productivos \n",
      "(6) - Refugiado que ha cesado en esa condición  \n",
      "(7) - Apátrida que ha perdido tal condición \n",
      "(8) - Extranjero que tiene a cargo ascendientes o descendientes de nacionalidad española\n",
      "\n",
      "----\n",
      "\n",
      "--Texto 9: tenga una notificación pendiente. \n",
      "(9) Marque la opción que corresponda. \n",
      "(10) Supuestos específicos de exención de la situación nacional de empleo recogidos en el art. 40 de la LO 4/2000, de 11 de enero. \n",
      "(1) - Cónyuge de extranjero con autorización de residencia renovada \n",
      "(2) - Hijo de extranjero con autorización de residencia renovada \n",
      "(3) - Hijo de español nacionalizado que ha residido en España al menos durante un año \n",
      "(4) - Hijo de ciudadano de la UE o EEE que hayan residido en España al menos durante un año \n",
      "(5) - Trabajador para el montaje de una instalación de equipos productivos \n",
      "(6) - Refugiado que ha cesado en esa condición  \n",
      "(7) - Apátrida que ha perdido tal condición \n",
      "(8) - Extranjero que tiene a cargo ascendientes o descendientes de nacionalidad española\n",
      "\n",
      "----\n",
      "\n",
      "--Texto 10: 3/8 \n",
      " \n",
      "• Padrón histórico, etc. (permanencia continuada en España durante los 2 años anteriores a la solicitud). \n",
      "• Informe de vida laboral. \n",
      " \n",
      "TARJETA DE RESIDENCIA TEMPORAL DE FAMILIAR DE CIUDADANO DE LA UNIÓN INICIAL. \n",
      "Documentación común: \n",
      "➢ Formulario EX19 firmado por familiar Y ciudadano de la Unión. \n",
      "➢ Pasaporte del familiar. \n",
      "➢ DNI (ciudadano español) o CUE + pasaporte (ciudadano UE/EEE/Suiza). \n",
      "➢ Medios económicos: contrato, nóminas, certificados bancarios, etc.  \n",
      "➢ Padrón familiar actual. \n",
      "Más información en: Tarjeta de residencia de familiar de ciudadano de la Unión Europe (HI 102) - \n",
      "Migraciones - Ministerio de Inclusión, Seguridad Social y Migraciones (inclusion.gob.es) \n",
      "• Cónyuge/pareja registrada: \n",
      "o Certificado reciente de matrimonio/pareja registrada.\n",
      "\n",
      "----\n",
      "--------------------------\n",
      "\n",
      "Responde en español a la siguiente pregunta basándote únicamente en el anterior contexto:\n",
      "¿Cuáles son los requisitos para la residencia en España?\n",
      "</think>\n",
      "\n",
      "Para la residencia en España, se requiere la documentación común que incluya:\n",
      "\n",
      "1. **Formulario EX19 firmado por familiar y ciudadano de la Unión Europea**.\n",
      "2. **Pasaporte del familiar**.\n",
      "3. **DNI (ciudadano español)** o **CUE + pasaporte (ciudadano UE/EEE/Suiza)**.\n",
      "4. **Medios económicos: contrato, nóminas, certificados bancarios, etc.**.\n",
      "5. **Padrón familiar actual**.\n",
      "6. **Cónyuge/pareja registrada: certificado reciente de matrimonio/pareja**.\n",
      "\n",
      "Estos requisitos garantizarán la posibilidad de realizar la residencia en España.\n",
      "\n",
      "📄 Documentos fuente con puntuación:\n",
      "Documento: C:\\Users\\zepol\\Documents\\UAM\\TFM\\extranjerIA\\data\\pdfs\\Indice_Documentacion_Esencial.pdf0.pdf - Score: 0.5161\n",
      "Documento: C:\\Users\\zepol\\Documents\\UAM\\TFM\\extranjerIA\\data\\pdfs\\AUT_TRABJ_Familiares_UE_sin_TIE.pdf.pdf - Score: 0.4934\n",
      "Documento: C:\\Users\\zepol\\Documents\\UAM\\TFM\\extranjerIA\\data\\pdfs\\Indice_Documentacion_Esencial.pdf0.pdf - Score: 0.4611\n",
      "Documento: C:\\Users\\zepol\\Documents\\UAM\\TFM\\extranjerIA\\data\\pdfs\\Indice_Documentacion_Esencial.pdf0.pdf - Score: 0.4589\n",
      "Documento: C:\\Users\\zepol\\Documents\\UAM\\TFM\\extranjerIA\\data\\pdfs\\Indice_Documentacion_Esencial.pdf0.pdf - Score: 0.4578\n",
      "Documento: C:\\Users\\zepol\\Documents\\UAM\\TFM\\extranjerIA\\data\\pdfs\\4_Cuenta_ajena-modificacion_otra_situacion.pdf.pdf - Score: 0.4502\n",
      "Documento: C:\\Users\\zepol\\Documents\\UAM\\TFM\\extranjerIA\\data\\pdfs\\3-_CUENTA_AJENA-modificacion.pdf.pdf - Score: 0.4502\n",
      "Documento: C:\\Users\\zepol\\Documents\\UAM\\TFM\\extranjerIA\\data\\pdfs\\2_cuenta_ajena-renovacion.pdf.pdf - Score: 0.4502\n",
      "Documento: C:\\Users\\zepol\\Documents\\UAM\\TFM\\extranjerIA\\data\\pdfs\\1_Cuenta_ajena-inicial.pdf.pdf - Score: 0.4502\n",
      "Documento: C:\\Users\\zepol\\Documents\\UAM\\TFM\\extranjerIA\\data\\pdfs\\Indice_Documentacion_Esencial.pdf0.pdf - Score: 0.4500\n",
      "\n",
      "✅ Proceso de generación completado exitosamente.\n"
     ]
    }
   ],
   "source": [
    "display_query_interface()"
   ]
  },
  {
   "cell_type": "code",
   "execution_count": null,
   "metadata": {},
   "outputs": [],
   "source": [
    "display_query_interface()"
   ]
  },
  {
   "cell_type": "code",
   "execution_count": null,
   "metadata": {},
   "outputs": [],
   "source": [
    "display_query_interface()"
   ]
  },
  {
   "cell_type": "code",
   "execution_count": null,
   "metadata": {},
   "outputs": [],
   "source": [
    "display_query_interface()"
   ]
  },
  {
   "cell_type": "code",
   "execution_count": null,
   "metadata": {},
   "outputs": [],
   "source": [
    "display_query_interface()"
   ]
  },
  {
   "cell_type": "code",
   "execution_count": null,
   "metadata": {},
   "outputs": [],
   "source": [
    "display_query_interface()"
   ]
  },
  {
   "cell_type": "code",
   "execution_count": null,
   "metadata": {},
   "outputs": [],
   "source": [
    "display_query_interface()"
   ]
  },
  {
   "cell_type": "code",
   "execution_count": null,
   "metadata": {},
   "outputs": [],
   "source": [
    "display_query_interface()"
   ]
  },
  {
   "cell_type": "code",
   "execution_count": null,
   "metadata": {},
   "outputs": [],
   "source": []
  },
  {
   "cell_type": "code",
   "execution_count": null,
   "metadata": {},
   "outputs": [],
   "source": []
  }
 ],
 "metadata": {
  "kernelspec": {
   "display_name": "venv",
   "language": "python",
   "name": "python3"
  },
  "language_info": {
   "codemirror_mode": {
    "name": "ipython",
    "version": 3
   },
   "file_extension": ".py",
   "mimetype": "text/x-python",
   "name": "python",
   "nbconvert_exporter": "python",
   "pygments_lexer": "ipython3",
   "version": "3.12.4"
  }
 },
 "nbformat": 4,
 "nbformat_minor": 2
}
